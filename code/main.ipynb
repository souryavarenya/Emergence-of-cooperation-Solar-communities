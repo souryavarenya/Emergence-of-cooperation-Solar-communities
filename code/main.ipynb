{
 "cells": [
  {
   "cell_type": "markdown",
   "metadata": {
    "slideshow": {
     "slide_type": "slide"
    }
   },
   "source": [
    "# Emergence of Co-operation for Solar Communities\n",
    "\n",
    "### Team Red Panda\n",
    "- Fornt Mas, Jordi\n",
    "- Kovvali, Sourya\n",
    "- Nuñez-Jimenez, Alejandro\n",
    "- Schwarz, Marius"
   ]
  },
  {
   "cell_type": "code",
   "execution_count": 1,
   "metadata": {},
   "outputs": [],
   "source": [
    "# Makes plots inside the notebook\n",
    "%matplotlib inline\n",
    "\n",
    "# Standard Imports\n",
    "import matplotlib.pyplot as plt\n",
    "import numpy as np\n",
    "import pandas as pd\n",
    "import json\n",
    "\n",
    "# Importing the Agent and Model Classes\n",
    "from Agent.BuildingAgent import BuildingAgent\n",
    "from Model.BuildingModel import BuildingModel"
   ]
  },
  {
   "cell_type": "markdown",
   "metadata": {},
   "source": [
    "Setting up some parameters for initialization"
   ]
  },
  {
   "cell_type": "code",
   "execution_count": 2,
   "metadata": {},
   "outputs": [],
   "source": [
    "# Define number of agents\n",
    "n_agents = 5\n",
    "\n",
    "# Define number of time steps each model runs\n",
    "n_steps = 10\n",
    "\n",
    "# Name of csv file containing data on individual buildings\n",
    "b_data_file = \"Data/buildings_data.csv\"\n",
    "m_data_file = \"Data/meta.json\"\n",
    "\n",
    "# Read building data from the CSV %%file\n",
    "b_data = pd.read_csv(b_data_file, nrows=n_agents)\n",
    "\n",
    "# Read meta data off JSON file\n",
    "with open(m_data_file) as myjson:\n",
    "    data_dict = json.loads(myjson.read())"
   ]
  },
  {
   "cell_type": "markdown",
   "metadata": {},
   "source": [
    "Sample run for few steps"
   ]
  },
  {
   "cell_type": "code",
   "execution_count": 3,
   "metadata": {},
   "outputs": [
    {
     "name": "stdout",
     "output_type": "stream",
     "text": [
      "new_agent\n",
      "680777\n",
      "246316\n",
      "0\n",
      "new_agent\n",
      "680535\n",
      "246483\n",
      "1\n",
      "new_agent\n",
      "680810\n",
      "245817\n",
      "2\n",
      "new_agent\n",
      "682011\n",
      "247127\n",
      "3\n",
      "new_agent\n",
      "682325\n",
      "247535\n",
      "4\n",
      "\n",
      "--\n",
      "Hi there, I am agent 1 and I have a utility level of 0.73 during the step number 0.\n",
      "\n",
      "Oh wow! I just install solar PV on my rooftop!\n",
      "My id is 1, and my utility is 0.7251952895437263.\n",
      "\n",
      "--\n",
      "Hi there, I am agent 4 and I have a utility level of 0.68 during the step number 0.\n",
      "\n",
      "Oh wow! I just install solar PV on my rooftop!\n",
      "My id is 4, and my utility is 0.6805964052261235.\n",
      "\n",
      "--\n",
      "Hi there, I am agent 2 and I have a utility level of 0.66 during the step number 0.\n",
      "\n",
      "Oh wow! I just install solar PV on my rooftop!\n",
      "My id is 2, and my utility is 0.6617599502509073.\n",
      "\n",
      "--\n",
      "Hi there, I am agent 0 and I have a utility level of 0.71 during the step number 0.\n",
      "\n",
      "Oh wow! I just install solar PV on my rooftop!\n",
      "My id is 0, and my utility is 0.7085695218628063.\n",
      "\n",
      "--\n",
      "Hi there, I am agent 3 and I have a utility level of 0.71 during the step number 0.\n",
      "\n",
      "Oh wow! I just install solar PV on my rooftop!\n",
      "My id is 3, and my utility is 0.7103654152879553.\n",
      "==\n",
      "\n",
      "--\n",
      "Hi there, I am agent 0 and I have a utility level of 0.73 during the step number 1.\n",
      "\n",
      "--\n",
      "Hi there, I am agent 4 and I have a utility level of 0.7 during the step number 1.\n",
      "\n",
      "--\n",
      "Hi there, I am agent 2 and I have a utility level of 0.68 during the step number 1.\n",
      "\n",
      "--\n",
      "Hi there, I am agent 3 and I have a utility level of 0.73 during the step number 1.\n",
      "\n",
      "--\n",
      "Hi there, I am agent 1 and I have a utility level of 0.75 during the step number 1.\n",
      "==\n",
      "\n",
      "--\n",
      "Hi there, I am agent 2 and I have a utility level of 0.72 during the step number 2.\n",
      "\n",
      "--\n",
      "Hi there, I am agent 0 and I have a utility level of 0.77 during the step number 2.\n",
      "\n",
      "Sweet! Just joined a community!\n",
      "My id is 0, and my utility is 0.7685695218628064.\n",
      "\n",
      "--\n",
      "Hi there, I am agent 4 and I have a utility level of 0.74 during the step number 2.\n",
      "\n",
      "--\n",
      "Hi there, I am agent 3 and I have a utility level of 0.77 during the step number 2.\n",
      "\n",
      "Sweet! Just joined a community!\n",
      "My id is 3, and my utility is 0.7703654152879553.\n",
      "\n",
      "--\n",
      "Hi there, I am agent 1 and I have a utility level of 0.79 during the step number 2.\n",
      "\n",
      "Sweet! Just joined a community!\n",
      "My id is 1, and my utility is 0.7851952895437263.\n",
      "==\n",
      "\n",
      "--\n",
      "Hi there, I am agent 4 and I have a utility level of 0.8 during the step number 3.\n",
      "\n",
      "Sweet! Just joined a community!\n",
      "My id is 4, and my utility is 0.8005964052261236.\n",
      "\n",
      "--\n",
      "Hi there, I am agent 2 and I have a utility level of 0.78 during the step number 3.\n",
      "\n",
      "Sweet! Just joined a community!\n",
      "My id is 2, and my utility is 0.7817599502509073.\n",
      "==\n",
      "==\n",
      "==\n",
      "==\n",
      "==\n",
      "==\n",
      "==\n"
     ]
    }
   ],
   "source": [
    "model = BuildingModel(BuildingAgent, b_data, n_agents, data_dict)\n",
    "\n",
    "for timestep in range(n_steps):\n",
    "    model.step()"
   ]
  }
 ],
 "metadata": {
  "kernelspec": {
   "display_name": "Python 3",
   "language": "python",
   "name": "python3"
  },
  "language_info": {
   "codemirror_mode": {
    "name": "ipython",
    "version": 3
   },
   "file_extension": ".py",
   "mimetype": "text/x-python",
   "name": "python",
   "nbconvert_exporter": "python",
   "pygments_lexer": "ipython3",
   "version": "3.6.5"
  }
 },
 "nbformat": 4,
 "nbformat_minor": 2
}
