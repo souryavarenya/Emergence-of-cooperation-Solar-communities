{
 "cells": [
  {
   "cell_type": "markdown",
   "metadata": {
    "slideshow": {
     "slide_type": "slide"
    }
   },
   "source": [
    "# Emergence of Co-operation for Solar Communities\n",
    "\n",
    "### Team Red Panda\n",
    "- Fornt Mas, Jordi\n",
    "- Kovvali, Sourya\n",
    "- Nuñez-Jimenez, Alejandro\n",
    "- Schwarz, Marius"
   ]
  },
  {
   "cell_type": "code",
   "execution_count": 1,
   "metadata": {},
   "outputs": [],
   "source": [
    "# Makes plots inside the notebook\n",
    "%matplotlib inline\n",
    "\n",
    "# Standard Imports\n",
    "import matplotlib.pyplot as plt\n",
    "import numpy as np\n",
    "import pandas as pd\n",
    "import json\n",
    "\n",
    "# Importing the Agent and Model Classes\n",
    "from Agent.BuildingAgent import BuildingAgent\n",
    "from Model.BuildingModel import BuildingModel\n",
    "\n",
    "# Import Visualization Functions\n",
    "from Visualization.VisualizationFunctions import ColourMap\n",
    "from Visualization.VisualizationFunctions import AnimateColourMap"
   ]
  },
  {
   "cell_type": "markdown",
   "metadata": {},
   "source": [
    "Setting up some parameters for initialization"
   ]
  },
  {
   "cell_type": "code",
   "execution_count": 2,
   "metadata": {},
   "outputs": [],
   "source": [
    "# Define number of agents\n",
    "n_agents = 5\n",
    "\n",
    "# Define number of time steps each model runs\n",
    "n_steps = 10\n",
    "\n",
    "# Name of csv file containing data on individual buildings\n",
    "b_data_file = \"Data/buildings_data.csv\"\n",
    "m_data_file = \"Data/meta.json\"\n",
    "\n",
    "# Read building data from the CSV %%file\n",
    "b_data = pd.read_csv(b_data_file, nrows=n_agents)\n",
    "\n",
    "# Read meta data off JSON file\n",
    "with open(m_data_file) as myjson:\n",
    "    data_dict = json.loads(myjson.read())"
   ]
  },
  {
   "cell_type": "markdown",
   "metadata": {},
   "source": [
    "Set up data arrays for visualization"
   ]
  },
  {
   "cell_type": "code",
   "execution_count": 3,
   "metadata": {},
   "outputs": [],
   "source": [
    "#Example of arrays that will contain data wrto time and agent\n",
    "profit_array = np.zeros([n_steps+1,n_agents])\n",
    "idea_array = np.zeros([n_steps+1,n_agents])\n",
    "utility_array = np.zeros([n_steps+1,n_agents])"
   ]
  },
  {
   "cell_type": "markdown",
   "metadata": {},
   "source": [
    "Sample run for few steps"
   ]
  },
  {
   "cell_type": "code",
   "execution_count": 4,
   "metadata": {},
   "outputs": [
    {
     "name": "stdout",
     "output_type": "stream",
     "text": [
      "new_agent\n",
      "680777\n",
      "246316\n",
      "0\n",
      "new_agent\n",
      "680535\n",
      "246483\n",
      "1\n",
      "new_agent\n",
      "680810\n",
      "245817\n",
      "2\n",
      "new_agent\n",
      "682011\n",
      "247127\n",
      "3\n",
      "new_agent\n",
      "682325\n",
      "247535\n",
      "4\n",
      "\n",
      "--\n",
      "Hi there, I am agent 3 and I have a utility level of 0.76 during the step number 0.\n",
      "\n",
      "Sweet! Just joined a community!\n",
      "My id is 3, and my utility is 0.7637260890583528.\n",
      "\n",
      "--\n",
      "Hi there, I am agent 2 and I have a utility level of 0.7 during the step number 0.\n",
      "\n",
      "Oh wow! I just install solar PV on my rooftop!\n",
      "My id is 2, and my utility is 0.6960402837086423.\n",
      "\n",
      "--\n",
      "Hi there, I am agent 0 and I have a utility level of 0.66 during the step number 0.\n",
      "\n",
      "Oh wow! I just install solar PV on my rooftop!\n",
      "My id is 0, and my utility is 0.6577718869399398.\n",
      "\n",
      "--\n",
      "Hi there, I am agent 1 and I have a utility level of 0.69 during the step number 0.\n",
      "\n",
      "Oh wow! I just install solar PV on my rooftop!\n",
      "My id is 1, and my utility is 0.6923047136564313.\n",
      "\n",
      "--\n",
      "Hi there, I am agent 4 and I have a utility level of 0.71 during the step number 0.\n",
      "\n",
      "Oh wow! I just install solar PV on my rooftop!\n",
      "My id is 4, and my utility is 0.7117873086949069.\n",
      "==\n",
      "\n",
      "--\n",
      "Hi there, I am agent 4 and I have a utility level of 0.73 during the step number 1.\n",
      "\n",
      "--\n",
      "Hi there, I am agent 1 and I have a utility level of 0.71 during the step number 1.\n",
      "\n",
      "--\n",
      "Hi there, I am agent 0 and I have a utility level of 0.68 during the step number 1.\n",
      "\n",
      "--\n",
      "Hi there, I am agent 2 and I have a utility level of 0.72 during the step number 1.\n",
      "==\n",
      "\n",
      "--\n",
      "Hi there, I am agent 1 and I have a utility level of 0.75 during the step number 2.\n",
      "\n",
      "Sweet! Just joined a community!\n",
      "My id is 1, and my utility is 0.7523047136564314.\n",
      "\n",
      "--\n",
      "Hi there, I am agent 2 and I have a utility level of 0.76 during the step number 2.\n",
      "\n",
      "Sweet! Just joined a community!\n",
      "My id is 2, and my utility is 0.7560402837086424.\n",
      "\n",
      "--\n",
      "Hi there, I am agent 4 and I have a utility level of 0.77 during the step number 2.\n",
      "\n",
      "Sweet! Just joined a community!\n",
      "My id is 4, and my utility is 0.771787308694907.\n",
      "\n",
      "--\n",
      "Hi there, I am agent 0 and I have a utility level of 0.72 during the step number 2.\n",
      "==\n",
      "\n",
      "--\n",
      "Hi there, I am agent 0 and I have a utility level of 0.78 during the step number 3.\n",
      "\n",
      "Sweet! Just joined a community!\n",
      "My id is 0, and my utility is 0.7777718869399398.\n",
      "==\n",
      "==\n",
      "==\n",
      "==\n",
      "==\n",
      "==\n",
      "==\n"
     ]
    }
   ],
   "source": [
    "model = BuildingModel(BuildingAgent, b_data, n_agents, data_dict)\n",
    "\n",
    "#Get initial data of interest\n",
    "for i in range(0,n_agents):\n",
    "    profit_array[0,i] = model.agent_list[i].profit\n",
    "    idea_array[0,i] = float(model.agent_list[i].idea)\n",
    "    utility_array[0,i] = model.agent_list[i].utility\n",
    "\n",
    "for timestep in range(n_steps):\n",
    "    model.step()\n",
    "    \n",
    "    #Get current data of interest\n",
    "    for i in range(0,n_agents):\n",
    "        profit_array[1+timestep,i] = model.agent_list[i].profit\n",
    "        idea_array[1+timestep,i] = float(model.agent_list[i].idea)\n",
    "        utility_array[1+timestep,i] = model.agent_list[i].utility"
   ]
  },
  {
   "cell_type": "markdown",
   "metadata": {},
   "source": [
    "Results and graphs"
   ]
  },
  {
   "cell_type": "code",
   "execution_count": 5,
   "metadata": {},
   "outputs": [
    {
     "data": {
      "text/plain": [
       "(<Figure size 720x360 with 1 Axes>,\n",
       " <matplotlib.collections.PathCollection at 0x7f57061925d0>)"
      ]
     },
     "execution_count": 5,
     "metadata": {},
     "output_type": "execute_result"
    },
    {
     "data": {
      "image/png": "[encoded data removed]",
      "text/plain": [
       "<Figure size 720x360 with 1 Axes>"
      ]
     },
     "metadata": {
      "needs_background": "light"
     },
     "output_type": "display_data"
    }
   ],
   "source": [
    "#Final Idea ColourMap\n",
    "ColourMap(model.x_coord, model.y_coord, idea_array[n_steps], col_range=(0,1), x_label=\"\", y_label=\"\", colorbar=0, Nlegend=2, color_label=['No idea', 'Idea'], title=\"Final idea distribution\", size=(10,5),cmap='RdYlGn',markersize=50,save=0,filename=\"IdeaMap.svg\")"
   ]
  },
  {
   "cell_type": "code",
   "execution_count": 6,
   "metadata": {},
   "outputs": [
    {
     "data": {
      "image/png": "[encoded data removed]",
      "text/plain": [
       "<Figure size 720x360 with 2 Axes>"
      ]
     },
     "metadata": {
      "needs_background": "light"
     },
     "output_type": "display_data"
    },
    {
     "data": {
      "image/png": "[encoded data removed]",
      "text/plain": [
       "<Figure size 720x360 with 2 Axes>"
      ]
     },
     "metadata": {
      "needs_background": "light"
     },
     "output_type": "display_data"
    }
   ],
   "source": [
    "#Evolution of profit .gif\n",
    "AnimateColourMap(n_steps, model.x_coord, model.y_coord, profit_array, dlyfactor=3, col_range=(0,2), x_label=\"\", y_label=\"\", colorbar=1, Nlegend=3, color_label=['Low', '', 'High'], title=\"Evolution of Profit\", size=(10,5),cmap='RdYlGn',markersize=50,filename=\"Visualization/res/ProfitEvolution.gif\")\n",
    "AnimateColourMap(n_steps, model.x_coord, model.y_coord, utility_array, dlyfactor=3, col_range=(0.6,0.9), x_label=\"\", y_label=\"\", colorbar=1, Nlegend=3, color_label=['Low', '', 'High'], title=\"Evolution of Utility\", size=(10,5),cmap='RdYlGn',markersize=50,filename=\"Visualization/res/Utility.gif\")        "
   ]
  },
  {
   "cell_type": "code",
   "execution_count": null,
   "metadata": {},
   "outputs": [],
   "source": []
  }
 ],
 "metadata": {
  "kernelspec": {
   "display_name": "Python 3",
   "language": "python",
   "name": "python3"
  },
  "language_info": {
   "codemirror_mode": {
    "name": "ipython",
    "version": 3
   },
   "file_extension": ".py",
   "mimetype": "text/x-python",
   "name": "python",
   "nbconvert_exporter": "python",
   "pygments_lexer": "ipython3",
   "version": "3.7.5"
  }
 },
 "nbformat": 4,
 "nbformat_minor": 2
}
