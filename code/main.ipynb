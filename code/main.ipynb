{
 "cells": [
  {
   "cell_type": "markdown",
   "metadata": {
    "slideshow": {
     "slide_type": "slide"
    }
   },
   "source": [
    "# Emergence of Co-operation for Solar Communities\n",
    "\n",
    "### Team Red Panda\n",
    "- Fornt Mas, Jordi\n",
    "- Kovvali, Sourya\n",
    "- Nuñez-Jimenez, Alejandro\n",
    "- Schwarz, Marius"
   ]
  },
  {
   "cell_type": "code",
   "execution_count": 1,
   "metadata": {},
   "outputs": [],
   "source": [
    "# Makes plots inside the notebook\n",
    "%matplotlib inline\n",
    "from IPython.core.interactiveshell import InteractiveShell\n",
    "InteractiveShell.ast_node_interactivity = \"last_expr\"\n",
    "\n",
    "# Standard Imports\n",
    "import matplotlib.pyplot as plt\n",
    "import numpy as np\n",
    "import pandas as pd\n",
    "import json\n",
    "\n",
    "# Importing the Agent and Model Classes\n",
    "from Agent.BuildingAgent import BuildingAgent\n",
    "from Model.BuildingModel import BuildingModel\n",
    "\n",
    "# Import Visualization Functions\n",
    "from Visualization.VisualizationFunctions import ColourMap\n",
    "from Visualization.VisualizationFunctions import AnimateColourMap"
   ]
  },
  {
   "cell_type": "markdown",
   "metadata": {},
   "source": [
    "Setting up some parameters for initialization"
   ]
  },
  {
   "cell_type": "code",
   "execution_count": 2,
   "metadata": {},
   "outputs": [],
   "source": [
    "# Define number of agents\n",
    "n_agents = 5\n",
    "\n",
    "# Define number of time steps each model runs\n",
    "n_steps = 10\n",
    "\n",
    "# Name of csv file containing data on individual buildings\n",
    "b_data_file = \"Data/buildings_data.csv\"\n",
    "m_data_file = \"Data/meta.json\"\n",
    "\n",
    "# Read building data from the CSV %%file\n",
    "b_data = pd.read_csv(b_data_file, nrows=n_agents)\n",
    "\n",
    "# Read meta data off JSON file\n",
    "with open(m_data_file) as myjson:\n",
    "    data_dict = json.loads(myjson.read())"
   ]
  },
  {
   "cell_type": "markdown",
   "metadata": {},
   "source": [
    "Set up data arrays for visualization"
   ]
  },
  {
   "cell_type": "code",
   "execution_count": 3,
   "metadata": {},
   "outputs": [],
   "source": [
    "#Example of arrays that will contain data wrto time and agent\n",
    "profit_array = np.zeros([n_steps+1,n_agents])\n",
    "idea_array = np.zeros([n_steps+1,n_agents])\n",
    "utility_array = np.zeros([n_steps+1,n_agents])"
   ]
  },
  {
   "cell_type": "markdown",
   "metadata": {},
   "source": [
    "Sample run for few steps"
   ]
  },
  {
   "cell_type": "code",
   "execution_count": 4,
   "metadata": {},
   "outputs": [
    {
     "name": "stdout",
     "output_type": "stream",
     "text": [
      "new_agent\n",
      "680777\n",
      "246316\n",
      "0\n",
      "new_agent\n",
      "680535\n",
      "246483\n",
      "1\n",
      "new_agent\n",
      "680810\n",
      "245817\n",
      "2\n",
      "new_agent\n",
      "682011\n",
      "247127\n",
      "3\n",
      "new_agent\n",
      "682325\n",
      "247535\n",
      "4\n"
     ]
    },
    {
     "ename": "TypeError",
     "evalue": "step() takes 1 positional argument but 2 were given",
     "output_type": "error",
     "traceback": [
      "\u001b[1;31m---------------------------------------------------------------------------\u001b[0m",
      "\u001b[1;31mTypeError\u001b[0m                                 Traceback (most recent call last)",
      "\u001b[1;32m<ipython-input-4-49afe0e6840c>\u001b[0m in \u001b[0;36m<module>\u001b[1;34m()\u001b[0m\n\u001b[0;32m      8\u001b[0m \u001b[1;33m\u001b[0m\u001b[0m\n\u001b[0;32m      9\u001b[0m \u001b[1;32mfor\u001b[0m \u001b[0mtimestep\u001b[0m \u001b[1;32min\u001b[0m \u001b[0mrange\u001b[0m\u001b[1;33m(\u001b[0m\u001b[0mn_steps\u001b[0m\u001b[1;33m)\u001b[0m\u001b[1;33m:\u001b[0m\u001b[1;33m\u001b[0m\u001b[0m\n\u001b[1;32m---> 10\u001b[1;33m     \u001b[0mmodel\u001b[0m\u001b[1;33m.\u001b[0m\u001b[0mstep\u001b[0m\u001b[1;33m(\u001b[0m\u001b[1;33m)\u001b[0m\u001b[1;33m\u001b[0m\u001b[0m\n\u001b[0m\u001b[0;32m     11\u001b[0m \u001b[1;33m\u001b[0m\u001b[0m\n\u001b[0;32m     12\u001b[0m     \u001b[1;31m#Get current data of interest\u001b[0m\u001b[1;33m\u001b[0m\u001b[1;33m\u001b[0m\u001b[0m\n",
      "\u001b[1;32mS:\\#ACADEMICS\\ETHZ - Sem 1\\ABMOSS\\Emergence-of-cooperation-Solar-communities\\code\\Model\\BuildingModel.py\u001b[0m in \u001b[0;36mstep\u001b[1;34m(self)\u001b[0m\n\u001b[0;32m    100\u001b[0m         \u001b[1;34m'''Advance the model by one step.'''\u001b[0m\u001b[1;33m\u001b[0m\u001b[0m\n\u001b[0;32m    101\u001b[0m         \u001b[1;31m#self.datacollector.collect(self)\u001b[0m\u001b[1;33m\u001b[0m\u001b[1;33m\u001b[0m\u001b[0m\n\u001b[1;32m--> 102\u001b[1;33m         \u001b[0mself\u001b[0m\u001b[1;33m.\u001b[0m\u001b[0mschedule\u001b[0m\u001b[1;33m.\u001b[0m\u001b[0mstep\u001b[0m\u001b[1;33m(\u001b[0m\u001b[1;32mTrue\u001b[0m\u001b[1;33m)\u001b[0m\u001b[1;33m\u001b[0m\u001b[0m\n\u001b[0m\u001b[0;32m    103\u001b[0m         \u001b[0mself\u001b[0m\u001b[1;33m.\u001b[0m\u001b[0mschedule\u001b[0m\u001b[1;33m.\u001b[0m\u001b[0mstep\u001b[0m\u001b[1;33m(\u001b[0m\u001b[1;32mFalse\u001b[0m\u001b[1;33m)\u001b[0m\u001b[1;33m\u001b[0m\u001b[0m\n\u001b[0;32m    104\u001b[0m         \u001b[0mprint\u001b[0m\u001b[1;33m(\u001b[0m\u001b[1;34m\"==\"\u001b[0m\u001b[1;33m)\u001b[0m\u001b[1;33m\u001b[0m\u001b[0m\n",
      "\u001b[1;31mTypeError\u001b[0m: step() takes 1 positional argument but 2 were given"
     ]
    }
   ],
   "source": [
    "model = BuildingModel(BuildingAgent, b_data, n_agents, data_dict)\n",
    "\n",
    "#Get initial data of interest\n",
    "for i in range(0,n_agents):\n",
    "    profit_array[0,i] = model.agent_list[i].profit\n",
    "    idea_array[0,i] = float(model.agent_list[i].idea)\n",
    "    utility_array[0,i] = model.agent_list[i].utility\n",
    "\n",
    "for timestep in range(n_steps):\n",
    "    model.step()\n",
    "    \n",
    "    #Get current data of interest\n",
    "    for i in range(0,n_agents):\n",
    "        profit_array[1+timestep,i] = model.agent_list[i].profit\n",
    "        idea_array[1+timestep,i] = float(model.agent_list[i].idea)\n",
    "        utility_array[1+timestep,i] = model.agent_list[i].utility"
   ]
  },
  {
   "cell_type": "markdown",
   "metadata": {},
   "source": [
    "Results and graphs"
   ]
  },
  {
   "cell_type": "code",
   "execution_count": 8,
   "metadata": {},
   "outputs": [
    {
     "data": {
      "image/png": "[encoded data removed]",
      "text/plain": [
       "<Figure size 720x360 with 1 Axes>"
      ]
     },
     "metadata": {
      "needs_background": "light"
     },
     "output_type": "display_data"
    }
   ],
   "source": [
    "#Final Idea ColourMap\n",
    "ColourMap(model.x_coord, model.y_coord, idea_array[n_steps], \n",
    "          col_range=(0,1), \n",
    "          x_label=\"x coordinate\", \n",
    "          y_label=\"y coordinate\", \n",
    "          colorbar=0, \n",
    "          Nlegend=2, \n",
    "          color_label=['No idea', 'Idea'], \n",
    "          title=\"Final idea distribution\", \n",
    "          size=(10,5),\n",
    "          cmap='RdYlGn',\n",
    "          markersize=50,\n",
    "          save=0,\n",
    "          filename=\"Visualization/res/IdeaMap.svg\")"
   ]
  },
  {
   "cell_type": "code",
   "execution_count": 6,
   "metadata": {},
   "outputs": [
    {
     "data": {
      "image/png": "[encoded data removed]",
      "text/plain": [
       "<Figure size 720x360 with 2 Axes>"
      ]
     },
     "metadata": {
      "needs_background": "light"
     },
     "output_type": "display_data"
    },
    {
     "data": {
      "image/png": "[encoded data removed]",
      "text/plain": [
       "<Figure size 720x360 with 2 Axes>"
      ]
     },
     "metadata": {
      "needs_background": "light"
     },
     "output_type": "display_data"
    }
   ],
   "source": [
    "#Evolution of profit .gif\n",
    "\n",
    "AnimateColourMap(n_steps, model.x_coord, model.y_coord, profit_array, \n",
    "                 dlyfactor=3, \n",
    "                 col_range=(0,2), \n",
    "                 x_label=\"\", \n",
    "                 y_label=\"\", \n",
    "                 colorbar=1, \n",
    "                 Nlegend=3, \n",
    "                 color_label=['Low', '', 'High'], \n",
    "                 title=\"Evolution of Profit\", \n",
    "                 size=(10,5),\n",
    "                 cmap='RdYlGn',\n",
    "                 markersize=50,\n",
    "                 filename=\"Visualization/res/ProfitEvolution.gif\")\n",
    "\n",
    "AnimateColourMap(n_steps, model.x_coord, model.y_coord, utility_array, \n",
    "                 dlyfactor=3, \n",
    "                 col_range=(0.6,0.9), \n",
    "                 x_label=\"\", \n",
    "                 y_label=\"\", \n",
    "                 colorbar=1, \n",
    "                 Nlegend=3, \n",
    "                 color_label=['Low', '', 'High'], \n",
    "                 title=\"Evolution of Utility\", \n",
    "                 size=(10,5),\n",
    "                 cmap='RdYlGn',\n",
    "                 markersize=50,\n",
    "                 filename=\"Visualization/res/Utility.gif\")        "
   ]
  }
 ],
 "metadata": {
  "kernelspec": {
   "display_name": "Python 3",
   "language": "python",
   "name": "python3"
  },
  "language_info": {
   "codemirror_mode": {
    "name": "ipython",
    "version": 3
   },
   "file_extension": ".py",
   "mimetype": "text/x-python",
   "name": "python",
   "nbconvert_exporter": "python",
   "pygments_lexer": "ipython3",
   "version": "3.6.5"
  }
 },
 "nbformat": 4,
 "nbformat_minor": 2
}
